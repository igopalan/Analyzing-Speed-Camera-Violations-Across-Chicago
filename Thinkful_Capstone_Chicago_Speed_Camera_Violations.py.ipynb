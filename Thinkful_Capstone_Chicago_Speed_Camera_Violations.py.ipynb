{
 "cells": [
  {
   "cell_type": "code",
   "execution_count": null,
   "metadata": {},
   "outputs": [],
   "source": [
    "#introduction and dataset description"
   ]
  },
  {
   "cell_type": "code",
   "execution_count": null,
   "metadata": {},
   "outputs": [],
   "source": [
    "%pylab inline\n",
    "#%matplotlib inline\n",
    "import numpy as np\n",
    "import pandas as pd\n",
    "import scipy\n",
    "import matplotlib.pyplot as plt\n",
    "import calendar\n",
    "import datetime\n",
    "from scipy.stats import ttest_ind\n"
   ]
  },
  {
   "cell_type": "code",
   "execution_count": null,
   "metadata": {
    "scrolled": true
   },
   "outputs": [],
   "source": [
    "import pandas as pd\n",
    "df = pd.read_csv('Thinkful_Chicago_Speed_Camera_Violations.csv.xz')\n",
    "df.head()  #default is 5 rows returned\n",
    "\n"
   ]
  },
  {
   "cell_type": "code",
   "execution_count": null,
   "metadata": {
    "scrolled": true
   },
   "outputs": [],
   "source": [
    "df_clean = df.drop(columns = ['X COORDINATE', 'Y COORDINATE', 'LATITUDE', 'LONGITUDE', 'LOCATION', 'Historical Wards 2003-2015', 'Census Tracts'])  \n",
    "#I chose to drop the coordinate columns as I wasn't going to use them to overlay on a map of Chicago.  Historical Wards had\n",
    "#little bearing on my report.\n",
    "df_clean"
   ]
  },
  {
   "cell_type": "code",
   "execution_count": null,
   "metadata": {},
   "outputs": [],
   "source": [
    "date_split = df['VIOLATION DATE'].str.split('/', expand = True) #I want to separate out the violation date into month, date, year\n",
    "violation_month = date_split[0].astype(int)\n",
    "violation_day = date_split[1].astype(int)\n",
    "violation_year = date_split[2].astype(int)\n",
    "#Now I want to add that violation month column into the dataframe\n",
    "df_clean['violation_month'] = violation_month"
   ]
  },
  {
   "cell_type": "code",
   "execution_count": null,
   "metadata": {},
   "outputs": [],
   "source": [
    "df_clean['violation_year'] = violation_year\n",
    "df_clean"
   ]
  },
  {
   "cell_type": "code",
   "execution_count": null,
   "metadata": {
    "scrolled": false
   },
   "outputs": [],
   "source": [
    "def return_season(x):\n",
    "    x = int(x)\n",
    "    if x == 6 or x == 7 or x == 8:\n",
    "        return \"Summer\"\n",
    "    elif x == 9 or x== 10 or x ==11:\n",
    "        return \"Fall\"\n",
    "    elif x == 12 or x == 1 or x == 2:\n",
    "        return \"Winter\"\n",
    "    elif x == 3 or x == 4 or x == 5:\n",
    "        return \"Spring\"\n",
    "    \n",
    "df_clean['violation_season'] = df_clean['violation_month'].apply(return_season)\n"
   ]
  },
  {
   "cell_type": "code",
   "execution_count": null,
   "metadata": {},
   "outputs": [],
   "source": [
    "df_clean"
   ]
  },
  {
   "cell_type": "code",
   "execution_count": null,
   "metadata": {},
   "outputs": [],
   "source": [
    "#As of July 2019, there are 163 speed cameras in Chicago"
   ]
  },
  {
   "cell_type": "code",
   "execution_count": null,
   "metadata": {},
   "outputs": [],
   "source": [
    "#This dataset reflects the daily volume of violations that have occurred in Children's Safety Zones for each camera. \n",
    "#The data reflects violations that occurred from July 1, 2014 until present, minus the most recent 14 days. \n",
    "#This data may change due to occasional time lags between the capturing of a potential violation and the processing and determination of a violation. \n",
    "#The most recent 14 days are not shown due to revised data being submitted to the City of Chicago. \n",
    "#The reported violations are those that have been collected by the camera and radar system and reviewed by two separate City contractors. \n",
    "#In some instances, due to the inability the registered owner of the offending vehicle, the violation may not be issued as a citation. \n",
    "#However, this dataset contains all violations regardless of whether a citation was issued, which provides an accurate view into the Automated Speed Enforcement Program violations taking place in Children's Safety Zones. \n",
    "#More information on the Safety Zone Program can be found here: http://www.cityofchicago.org/city/en/depts/cdot/supp_info/children_s_safetyzoneporgramautomaticspeedenforcement.html. The corresponding dataset for red light camera violations is https://data.cityofchicago.org/id/spqx-js37."
   ]
  },
  {
   "cell_type": "code",
   "execution_count": null,
   "metadata": {},
   "outputs": [],
   "source": [
    "#What is a children's safety zone?\n",
    "\n",
    "#Safety zones are designated as a 1/8th of a mile boundary around any Chicago parks or schools. \n",
    "#The program uses enhanced signage and automated safety cameras to identify and ticket motorists who are breaking the law by exceeding the speed limits."
   ]
  },
  {
   "cell_type": "code",
   "execution_count": null,
   "metadata": {},
   "outputs": [],
   "source": [
    "#What is a Community Area in Chicago?\n",
    "#Chicago is made up of 77 community areas that are often grouped into 9 districts or “sides.” \n",
    "#The community areas are well defined and do not overlap. \n",
    "#Each community area has one or more neighborhoods in it. The neighborhoods are often not well defined and over lap each other."
   ]
  },
  {
   "cell_type": "code",
   "execution_count": null,
   "metadata": {},
   "outputs": [],
   "source": [
    "#Questions to Answer:\n",
    "\n",
    "#1.Have the overall violations dropped year over year?  #Good, per MagdalenaThat may be too simple of a question since I can answer that both in Pandas and Excel\n",
    "##Future research, if # violations decreased, then is it because people drive slower? Over time can you track zip code or wards?\n",
    "\n",
    "#2. How does violation # depend on the season? Adding the season column through Pandas to the violation data, create the function, transform\n",
    "###date to season.  Logic \"if date dec to march, then set to winter\"\n",
    "\n",
    "\n",
    "#3. How do the violation volume differ based on the areas or zip or wards of Chicago?\n",
    "##3b. Which zip codes have the most violations?  Least violations?  Show top 3,5,10..\n",
    "\n",
    "#plot histogram of violations and get mean, stdev, for the statistics.  \n",
    "#Final section - proposal for further research - what did i find interesting that could be expanded on for future??\n",
    "##property prices to areas of high violations\n"
   ]
  },
  {
   "cell_type": "code",
   "execution_count": null,
   "metadata": {},
   "outputs": [],
   "source": [
    "#Outline\n",
    "#Abstract, dataset description\n",
    "##Questions\n",
    "###Conclusion\n",
    "####Proposal"
   ]
  },
  {
   "cell_type": "code",
   "execution_count": null,
   "metadata": {
    "scrolled": true
   },
   "outputs": [],
   "source": [
    "#df_clean.plot(x='VIOLATION DATE', y='VIOLATIONS', figsize=[25,12])"
   ]
  },
  {
   "cell_type": "code",
   "execution_count": null,
   "metadata": {},
   "outputs": [],
   "source": [
    "df_clean.plot.bar(x = 'violation_year', y = 'VIOLATIONS') #This graph won't plot!!!  "
   ]
  },
  {
   "cell_type": "code",
   "execution_count": null,
   "metadata": {},
   "outputs": [],
   "source": [
    "df_clean.hist()"
   ]
  },
  {
   "cell_type": "code",
   "execution_count": null,
   "metadata": {},
   "outputs": [],
   "source": [
    "#numpy.random.gamma(shape, scale, size)\n",
    "# Generate a gamma distribution with shape =5 and scale = 1\n",
    "gamma = np.random.gamma(5,1, 100)   #shape = 5, tells me the midpoint\n",
    "\n",
    "# Plot a histogram.\n",
    "plt.hist(gamma)\n",
    "\n",
    "# Print the histogram.\n",
    "plt.show()"
   ]
  }
 ],
 "metadata": {
  "kernelspec": {
   "display_name": "Python 3",
   "language": "python",
   "name": "python3"
  },
  "language_info": {
   "codemirror_mode": {
    "name": "ipython",
    "version": 3
   },
   "file_extension": ".py",
   "mimetype": "text/x-python",
   "name": "python",
   "nbconvert_exporter": "python",
   "pygments_lexer": "ipython3",
   "version": "3.7.1"
  }
 },
 "nbformat": 4,
 "nbformat_minor": 2
}
