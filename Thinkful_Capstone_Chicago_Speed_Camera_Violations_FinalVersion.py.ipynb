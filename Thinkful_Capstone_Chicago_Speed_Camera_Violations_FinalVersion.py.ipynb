{
 "cells": [
  {
   "cell_type": "markdown",
   "metadata": {},
   "source": [
    "Thinkful Capstone Project #1 - \"Analyzing Speed Camera Violations Across Chicago\"\n",
    "by Ilango Gopalan, August 2019\n"
   ]
  },
  {
   "cell_type": "markdown",
   "metadata": {},
   "source": [
    "In 2013, the city of Chicago announced that 50 'zones' around parks and schools would be equipped \n",
    "with automated speed enforcement cameras.  These cameras are part of the Children's Safety Zone Program, and were\n",
    "installed with the expectation of having motorists reduce speeding near the zones.\n"
   ]
  },
  {
   "cell_type": "markdown",
   "metadata": {},
   "source": [
    "The dataset for this project is found here: \n",
    "https://data.cityofchicago.org/Transportation/Speed-Camera-Violations/hhkd-xvj4\n",
    "\n",
    "This dataset reflects the daily volume of violations that have occurred in Children's Safety Zones for each camera. \n",
    "The data reflects violations that occurred from July 1, 2014 until present, minus the most recent 14 days.\n",
    "As of July 2019, there are 163 speed cameras in Chicago, across 50 wards, and 77 community areas\n",
    "\n",
    "A children's safety zone is designated as a 1/8th of a mile boundary around any Chicago parks or schools. \n",
    "The program uses enhanced signage and automated safety cameras to identify and ticket motorists who exceeded speed limits.\n",
    "\n",
    "Chicago is made up of 77 community areas that are often grouped into 9 districts or “sides.” \n",
    "The community areas are well defined and do not overlap. \n",
    "Each community area has one or more neighborhoods in it. The neighborhoods are often not well defined and over lap each other."
   ]
  },
  {
   "cell_type": "markdown",
   "metadata": {},
   "source": [
    "From this report, a reader will be able to answer the following questions:\n",
    "1. Have the overall speeding violations increased or decreased year over year?\n",
    "2. How does the speeding violation volume depend on the season? \n",
    "3. Which wards, addresses, and community areas have the most violations?\n",
    "\n",
    "Additionally, the report will show areas for future further analysis.  "
   ]
  },
  {
   "cell_type": "code",
   "execution_count": 1,
   "metadata": {},
   "outputs": [
    {
     "name": "stdout",
     "output_type": "stream",
     "text": [
      "Populating the interactive namespace from numpy and matplotlib\n"
     ]
    }
   ],
   "source": [
    "%pylab inline\n",
    "#%matplotlib inline\n",
    "import numpy as np\n",
    "import pandas as pd\n",
    "import scipy\n",
    "import matplotlib.pyplot as plt\n",
    "import calendar\n",
    "import datetime\n",
    "from scipy.stats import ttest_ind"
   ]
  },
  {
   "cell_type": "code",
   "execution_count": 2,
   "metadata": {
    "scrolled": true
   },
   "outputs": [
    {
     "data": {
      "text/html": [
       "<div>\n",
       "<style scoped>\n",
       "    .dataframe tbody tr th:only-of-type {\n",
       "        vertical-align: middle;\n",
       "    }\n",
       "\n",
       "    .dataframe tbody tr th {\n",
       "        vertical-align: top;\n",
       "    }\n",
       "\n",
       "    .dataframe thead th {\n",
       "        text-align: right;\n",
       "    }\n",
       "</style>\n",
       "<table border=\"1\" class=\"dataframe\">\n",
       "  <thead>\n",
       "    <tr style=\"text-align: right;\">\n",
       "      <th></th>\n",
       "      <th>ADDRESS</th>\n",
       "      <th>CAMERA ID</th>\n",
       "      <th>VIOLATION DATE</th>\n",
       "      <th>VIOLATIONS</th>\n",
       "      <th>X COORDINATE</th>\n",
       "      <th>Y COORDINATE</th>\n",
       "      <th>LATITUDE</th>\n",
       "      <th>LONGITUDE</th>\n",
       "      <th>LOCATION</th>\n",
       "      <th>Historical Wards 2003-2015</th>\n",
       "      <th>Zip Codes</th>\n",
       "      <th>Community Areas</th>\n",
       "      <th>Census Tracts</th>\n",
       "      <th>Wards</th>\n",
       "    </tr>\n",
       "  </thead>\n",
       "  <tbody>\n",
       "    <tr>\n",
       "      <th>0</th>\n",
       "      <td>7122 S SOUTH CHICAGO AVE</td>\n",
       "      <td>CHI184</td>\n",
       "      <td>7/23/2019</td>\n",
       "      <td>196</td>\n",
       "      <td>1182950.681</td>\n",
       "      <td>1857907.892</td>\n",
       "      <td>41.765301</td>\n",
       "      <td>-87.604985</td>\n",
       "      <td>(41.76530133793055, -87.60498537037378)</td>\n",
       "      <td>32.0</td>\n",
       "      <td>21546.0</td>\n",
       "      <td>67.0</td>\n",
       "      <td>121.0</td>\n",
       "      <td>33.0</td>\n",
       "    </tr>\n",
       "    <tr>\n",
       "      <th>1</th>\n",
       "      <td>445 W 127TH</td>\n",
       "      <td>CHI045</td>\n",
       "      <td>7/23/2019</td>\n",
       "      <td>102</td>\n",
       "      <td>1175468.446</td>\n",
       "      <td>1820629.229</td>\n",
       "      <td>41.663174</td>\n",
       "      <td>-87.633520</td>\n",
       "      <td>(41.663174059325534, -87.63352045241697)</td>\n",
       "      <td>30.0</td>\n",
       "      <td>21861.0</td>\n",
       "      <td>50.0</td>\n",
       "      <td>7.0</td>\n",
       "      <td>43.0</td>\n",
       "    </tr>\n",
       "    <tr>\n",
       "      <th>2</th>\n",
       "      <td>536 E MORGAN DR</td>\n",
       "      <td>CHI029</td>\n",
       "      <td>7/23/2019</td>\n",
       "      <td>100</td>\n",
       "      <td>1180984.657</td>\n",
       "      <td>1868164.766</td>\n",
       "      <td>41.793493</td>\n",
       "      <td>-87.611876</td>\n",
       "      <td>(41.793492645896656, -87.6118759701359)</td>\n",
       "      <td>53.0</td>\n",
       "      <td>22260.0</td>\n",
       "      <td>7.0</td>\n",
       "      <td>401.0</td>\n",
       "      <td>4.0</td>\n",
       "    </tr>\n",
       "    <tr>\n",
       "      <th>3</th>\n",
       "      <td>4909 N CICERO AVE</td>\n",
       "      <td>CHI149</td>\n",
       "      <td>7/23/2019</td>\n",
       "      <td>69</td>\n",
       "      <td>1143500.842</td>\n",
       "      <td>1932251.247</td>\n",
       "      <td>41.970135</td>\n",
       "      <td>-87.747724</td>\n",
       "      <td>(41.970134735816295, -87.7477237971432)</td>\n",
       "      <td>28.0</td>\n",
       "      <td>21869.0</td>\n",
       "      <td>14.0</td>\n",
       "      <td>751.0</td>\n",
       "      <td>38.0</td>\n",
       "    </tr>\n",
       "    <tr>\n",
       "      <th>4</th>\n",
       "      <td>8020 W FOREST PRESERVE AV</td>\n",
       "      <td>CHI174</td>\n",
       "      <td>7/23/2019</td>\n",
       "      <td>68</td>\n",
       "      <td>1121895.053</td>\n",
       "      <td>1922705.872</td>\n",
       "      <td>41.944319</td>\n",
       "      <td>-87.827378</td>\n",
       "      <td>(41.944318833069445, -87.8273782786742)</td>\n",
       "      <td>39.0</td>\n",
       "      <td>22254.0</td>\n",
       "      <td>17.0</td>\n",
       "      <td>413.0</td>\n",
       "      <td>19.0</td>\n",
       "    </tr>\n",
       "  </tbody>\n",
       "</table>\n",
       "</div>"
      ],
      "text/plain": [
       "                     ADDRESS CAMERA ID VIOLATION DATE  VIOLATIONS  \\\n",
       "0   7122 S SOUTH CHICAGO AVE    CHI184      7/23/2019         196   \n",
       "1                445 W 127TH    CHI045      7/23/2019         102   \n",
       "2            536 E MORGAN DR    CHI029      7/23/2019         100   \n",
       "3          4909 N CICERO AVE    CHI149      7/23/2019          69   \n",
       "4  8020 W FOREST PRESERVE AV    CHI174      7/23/2019          68   \n",
       "\n",
       "   X COORDINATE  Y COORDINATE   LATITUDE  LONGITUDE  \\\n",
       "0   1182950.681   1857907.892  41.765301 -87.604985   \n",
       "1   1175468.446   1820629.229  41.663174 -87.633520   \n",
       "2   1180984.657   1868164.766  41.793493 -87.611876   \n",
       "3   1143500.842   1932251.247  41.970135 -87.747724   \n",
       "4   1121895.053   1922705.872  41.944319 -87.827378   \n",
       "\n",
       "                                   LOCATION  Historical Wards 2003-2015  \\\n",
       "0   (41.76530133793055, -87.60498537037378)                        32.0   \n",
       "1  (41.663174059325534, -87.63352045241697)                        30.0   \n",
       "2   (41.793492645896656, -87.6118759701359)                        53.0   \n",
       "3   (41.970134735816295, -87.7477237971432)                        28.0   \n",
       "4   (41.944318833069445, -87.8273782786742)                        39.0   \n",
       "\n",
       "   Zip Codes  Community Areas  Census Tracts  Wards  \n",
       "0    21546.0             67.0          121.0   33.0  \n",
       "1    21861.0             50.0            7.0   43.0  \n",
       "2    22260.0              7.0          401.0    4.0  \n",
       "3    21869.0             14.0          751.0   38.0  \n",
       "4    22254.0             17.0          413.0   19.0  "
      ]
     },
     "execution_count": 2,
     "metadata": {},
     "output_type": "execute_result"
    }
   ],
   "source": [
    "import pandas as pd\n",
    "#The csv file contains ~195,000 rows from 7/1/2014 to 7/23/2019\n",
    "df = pd.read_csv('Thinkful_Chicago_Speed_Camera_Violations.csv') \n",
    "df.head()  #default is 5 rows returned"
   ]
  },
  {
   "cell_type": "code",
   "execution_count": 3,
   "metadata": {
    "scrolled": true
   },
   "outputs": [
    {
     "data": {
      "text/html": [
       "<div>\n",
       "<style scoped>\n",
       "    .dataframe tbody tr th:only-of-type {\n",
       "        vertical-align: middle;\n",
       "    }\n",
       "\n",
       "    .dataframe tbody tr th {\n",
       "        vertical-align: top;\n",
       "    }\n",
       "\n",
       "    .dataframe thead th {\n",
       "        text-align: right;\n",
       "    }\n",
       "</style>\n",
       "<table border=\"1\" class=\"dataframe\">\n",
       "  <thead>\n",
       "    <tr style=\"text-align: right;\">\n",
       "      <th></th>\n",
       "      <th>ADDRESS</th>\n",
       "      <th>CAMERA ID</th>\n",
       "      <th>VIOLATION DATE</th>\n",
       "      <th>VIOLATIONS</th>\n",
       "      <th>Zip Codes</th>\n",
       "      <th>Community Areas</th>\n",
       "      <th>Wards</th>\n",
       "    </tr>\n",
       "  </thead>\n",
       "  <tbody>\n",
       "    <tr>\n",
       "      <th>0</th>\n",
       "      <td>7122 S SOUTH CHICAGO AVE</td>\n",
       "      <td>CHI184</td>\n",
       "      <td>7/23/2019</td>\n",
       "      <td>196</td>\n",
       "      <td>21546.0</td>\n",
       "      <td>67.0</td>\n",
       "      <td>33.0</td>\n",
       "    </tr>\n",
       "    <tr>\n",
       "      <th>1</th>\n",
       "      <td>445 W 127TH</td>\n",
       "      <td>CHI045</td>\n",
       "      <td>7/23/2019</td>\n",
       "      <td>102</td>\n",
       "      <td>21861.0</td>\n",
       "      <td>50.0</td>\n",
       "      <td>43.0</td>\n",
       "    </tr>\n",
       "    <tr>\n",
       "      <th>2</th>\n",
       "      <td>536 E MORGAN DR</td>\n",
       "      <td>CHI029</td>\n",
       "      <td>7/23/2019</td>\n",
       "      <td>100</td>\n",
       "      <td>22260.0</td>\n",
       "      <td>7.0</td>\n",
       "      <td>4.0</td>\n",
       "    </tr>\n",
       "    <tr>\n",
       "      <th>3</th>\n",
       "      <td>4909 N CICERO AVE</td>\n",
       "      <td>CHI149</td>\n",
       "      <td>7/23/2019</td>\n",
       "      <td>69</td>\n",
       "      <td>21869.0</td>\n",
       "      <td>14.0</td>\n",
       "      <td>38.0</td>\n",
       "    </tr>\n",
       "    <tr>\n",
       "      <th>4</th>\n",
       "      <td>8020 W FOREST PRESERVE AV</td>\n",
       "      <td>CHI174</td>\n",
       "      <td>7/23/2019</td>\n",
       "      <td>68</td>\n",
       "      <td>22254.0</td>\n",
       "      <td>17.0</td>\n",
       "      <td>19.0</td>\n",
       "    </tr>\n",
       "  </tbody>\n",
       "</table>\n",
       "</div>"
      ],
      "text/plain": [
       "                     ADDRESS CAMERA ID VIOLATION DATE  VIOLATIONS  Zip Codes  \\\n",
       "0   7122 S SOUTH CHICAGO AVE    CHI184      7/23/2019         196    21546.0   \n",
       "1                445 W 127TH    CHI045      7/23/2019         102    21861.0   \n",
       "2            536 E MORGAN DR    CHI029      7/23/2019         100    22260.0   \n",
       "3          4909 N CICERO AVE    CHI149      7/23/2019          69    21869.0   \n",
       "4  8020 W FOREST PRESERVE AV    CHI174      7/23/2019          68    22254.0   \n",
       "\n",
       "   Community Areas  Wards  \n",
       "0             67.0   33.0  \n",
       "1             50.0   43.0  \n",
       "2              7.0    4.0  \n",
       "3             14.0   38.0  \n",
       "4             17.0   19.0  "
      ]
     },
     "execution_count": 3,
     "metadata": {},
     "output_type": "execute_result"
    }
   ],
   "source": [
    "df_clean = df.drop(columns = ['X COORDINATE', 'Y COORDINATE', 'LATITUDE', 'LONGITUDE', 'LOCATION', 'Historical Wards 2003-2015', 'Census Tracts'])  \n",
    "#For this report I am focusing on speeding violation volume across areas, wards, seasons, and years.  \n",
    "#Therefore, I removed all columns pertaining to the camera ID and its location.  But I kept the address and camera ID\n",
    "df_clean.head()"
   ]
  },
  {
   "cell_type": "code",
   "execution_count": 4,
   "metadata": {},
   "outputs": [],
   "source": [
    "#I chose to separate out the 'VIOLATION DATE', so I could use the month and year for analysis\n",
    "date_split = df['VIOLATION DATE'].str.split('/', expand = True) \n",
    "violation_month = date_split[0].astype(int)\n",
    "violation_day = date_split[1].astype(int)\n",
    "violation_year = date_split[2].astype(int)\n",
    "#Now I want to add that violation month column into the dataframe\n",
    "df_clean['violation_month'] = violation_month"
   ]
  },
  {
   "cell_type": "code",
   "execution_count": null,
   "metadata": {},
   "outputs": [
    {
     "data": {
      "text/html": [
       "<div>\n",
       "<style scoped>\n",
       "    .dataframe tbody tr th:only-of-type {\n",
       "        vertical-align: middle;\n",
       "    }\n",
       "\n",
       "    .dataframe tbody tr th {\n",
       "        vertical-align: top;\n",
       "    }\n",
       "\n",
       "    .dataframe thead th {\n",
       "        text-align: right;\n",
       "    }\n",
       "</style>\n",
       "<table border=\"1\" class=\"dataframe\">\n",
       "  <thead>\n",
       "    <tr style=\"text-align: right;\">\n",
       "      <th></th>\n",
       "      <th>ADDRESS</th>\n",
       "      <th>CAMERA ID</th>\n",
       "      <th>VIOLATION DATE</th>\n",
       "      <th>VIOLATIONS</th>\n",
       "      <th>Zip Codes</th>\n",
       "      <th>Community Areas</th>\n",
       "      <th>Wards</th>\n",
       "      <th>violation_month</th>\n",
       "      <th>violation_year</th>\n",
       "    </tr>\n",
       "  </thead>\n",
       "  <tbody>\n",
       "    <tr>\n",
       "      <th>0</th>\n",
       "      <td>7122 S SOUTH CHICAGO AVE</td>\n",
       "      <td>CHI184</td>\n",
       "      <td>7/23/2019</td>\n",
       "      <td>196</td>\n",
       "      <td>21546.0</td>\n",
       "      <td>67.0</td>\n",
       "      <td>33.0</td>\n",
       "      <td>7</td>\n",
       "      <td>2019</td>\n",
       "    </tr>\n",
       "    <tr>\n",
       "      <th>1</th>\n",
       "      <td>445 W 127TH</td>\n",
       "      <td>CHI045</td>\n",
       "      <td>7/23/2019</td>\n",
       "      <td>102</td>\n",
       "      <td>21861.0</td>\n",
       "      <td>50.0</td>\n",
       "      <td>43.0</td>\n",
       "      <td>7</td>\n",
       "      <td>2019</td>\n",
       "    </tr>\n",
       "    <tr>\n",
       "      <th>2</th>\n",
       "      <td>536 E MORGAN DR</td>\n",
       "      <td>CHI029</td>\n",
       "      <td>7/23/2019</td>\n",
       "      <td>100</td>\n",
       "      <td>22260.0</td>\n",
       "      <td>7.0</td>\n",
       "      <td>4.0</td>\n",
       "      <td>7</td>\n",
       "      <td>2019</td>\n",
       "    </tr>\n",
       "    <tr>\n",
       "      <th>3</th>\n",
       "      <td>4909 N CICERO AVE</td>\n",
       "      <td>CHI149</td>\n",
       "      <td>7/23/2019</td>\n",
       "      <td>69</td>\n",
       "      <td>21869.0</td>\n",
       "      <td>14.0</td>\n",
       "      <td>38.0</td>\n",
       "      <td>7</td>\n",
       "      <td>2019</td>\n",
       "    </tr>\n",
       "    <tr>\n",
       "      <th>4</th>\n",
       "      <td>8020 W FOREST PRESERVE AV</td>\n",
       "      <td>CHI174</td>\n",
       "      <td>7/23/2019</td>\n",
       "      <td>68</td>\n",
       "      <td>22254.0</td>\n",
       "      <td>17.0</td>\n",
       "      <td>19.0</td>\n",
       "      <td>7</td>\n",
       "      <td>2019</td>\n",
       "    </tr>\n",
       "  </tbody>\n",
       "</table>\n",
       "</div>"
      ],
      "text/plain": [
       "                     ADDRESS CAMERA ID VIOLATION DATE  VIOLATIONS  Zip Codes  \\\n",
       "0   7122 S SOUTH CHICAGO AVE    CHI184      7/23/2019         196    21546.0   \n",
       "1                445 W 127TH    CHI045      7/23/2019         102    21861.0   \n",
       "2            536 E MORGAN DR    CHI029      7/23/2019         100    22260.0   \n",
       "3          4909 N CICERO AVE    CHI149      7/23/2019          69    21869.0   \n",
       "4  8020 W FOREST PRESERVE AV    CHI174      7/23/2019          68    22254.0   \n",
       "\n",
       "   Community Areas  Wards  violation_month  violation_year  \n",
       "0             67.0   33.0                7            2019  \n",
       "1             50.0   43.0                7            2019  \n",
       "2              7.0    4.0                7            2019  \n",
       "3             14.0   38.0                7            2019  \n",
       "4             17.0   19.0                7            2019  "
      ]
     },
     "execution_count": 5,
     "metadata": {},
     "output_type": "execute_result"
    }
   ],
   "source": [
    "df_clean['violation_year'] = violation_year #I added this column to show trends year over year\n",
    "df_clean.head()"
   ]
  },
  {
   "cell_type": "code",
   "execution_count": null,
   "metadata": {
    "scrolled": false
   },
   "outputs": [],
   "source": [
    "#Once I created a 'violation_month' column, I converted the months into one of four seasons\n",
    "def return_season(x):\n",
    "    x = int(x)\n",
    "    if x == 6 or x == 7 or x == 8:\n",
    "        return \"Summer\"\n",
    "    elif x == 9 or x== 10 or x ==11:\n",
    "        return \"Fall\"\n",
    "    elif x == 12 or x == 1 or x == 2:\n",
    "        return \"Winter\"\n",
    "    elif x == 3 or x == 4 or x == 5:\n",
    "        return \"Spring\"\n",
    "    \n",
    "df_clean['violation_season'] = df_clean['violation_month'].apply(return_season)"
   ]
  },
  {
   "cell_type": "code",
   "execution_count": null,
   "metadata": {},
   "outputs": [
    {
     "data": {
      "text/html": [
       "<div>\n",
       "<style scoped>\n",
       "    .dataframe tbody tr th:only-of-type {\n",
       "        vertical-align: middle;\n",
       "    }\n",
       "\n",
       "    .dataframe tbody tr th {\n",
       "        vertical-align: top;\n",
       "    }\n",
       "\n",
       "    .dataframe thead th {\n",
       "        text-align: right;\n",
       "    }\n",
       "</style>\n",
       "<table border=\"1\" class=\"dataframe\">\n",
       "  <thead>\n",
       "    <tr style=\"text-align: right;\">\n",
       "      <th></th>\n",
       "      <th>ADDRESS</th>\n",
       "      <th>CAMERA ID</th>\n",
       "      <th>VIOLATION DATE</th>\n",
       "      <th>VIOLATIONS</th>\n",
       "      <th>Zip Codes</th>\n",
       "      <th>Community Areas</th>\n",
       "      <th>Wards</th>\n",
       "      <th>violation_month</th>\n",
       "      <th>violation_year</th>\n",
       "      <th>violation_season</th>\n",
       "    </tr>\n",
       "  </thead>\n",
       "  <tbody>\n",
       "    <tr>\n",
       "      <th>0</th>\n",
       "      <td>7122 S SOUTH CHICAGO AVE</td>\n",
       "      <td>CHI184</td>\n",
       "      <td>7/23/2019</td>\n",
       "      <td>196</td>\n",
       "      <td>21546.0</td>\n",
       "      <td>67.0</td>\n",
       "      <td>33.0</td>\n",
       "      <td>7</td>\n",
       "      <td>2019</td>\n",
       "      <td>Summer</td>\n",
       "    </tr>\n",
       "    <tr>\n",
       "      <th>1</th>\n",
       "      <td>445 W 127TH</td>\n",
       "      <td>CHI045</td>\n",
       "      <td>7/23/2019</td>\n",
       "      <td>102</td>\n",
       "      <td>21861.0</td>\n",
       "      <td>50.0</td>\n",
       "      <td>43.0</td>\n",
       "      <td>7</td>\n",
       "      <td>2019</td>\n",
       "      <td>Summer</td>\n",
       "    </tr>\n",
       "    <tr>\n",
       "      <th>2</th>\n",
       "      <td>536 E MORGAN DR</td>\n",
       "      <td>CHI029</td>\n",
       "      <td>7/23/2019</td>\n",
       "      <td>100</td>\n",
       "      <td>22260.0</td>\n",
       "      <td>7.0</td>\n",
       "      <td>4.0</td>\n",
       "      <td>7</td>\n",
       "      <td>2019</td>\n",
       "      <td>Summer</td>\n",
       "    </tr>\n",
       "    <tr>\n",
       "      <th>3</th>\n",
       "      <td>4909 N CICERO AVE</td>\n",
       "      <td>CHI149</td>\n",
       "      <td>7/23/2019</td>\n",
       "      <td>69</td>\n",
       "      <td>21869.0</td>\n",
       "      <td>14.0</td>\n",
       "      <td>38.0</td>\n",
       "      <td>7</td>\n",
       "      <td>2019</td>\n",
       "      <td>Summer</td>\n",
       "    </tr>\n",
       "    <tr>\n",
       "      <th>4</th>\n",
       "      <td>8020 W FOREST PRESERVE AV</td>\n",
       "      <td>CHI174</td>\n",
       "      <td>7/23/2019</td>\n",
       "      <td>68</td>\n",
       "      <td>22254.0</td>\n",
       "      <td>17.0</td>\n",
       "      <td>19.0</td>\n",
       "      <td>7</td>\n",
       "      <td>2019</td>\n",
       "      <td>Summer</td>\n",
       "    </tr>\n",
       "  </tbody>\n",
       "</table>\n",
       "</div>"
      ],
      "text/plain": [
       "                     ADDRESS CAMERA ID VIOLATION DATE  VIOLATIONS  Zip Codes  \\\n",
       "0   7122 S SOUTH CHICAGO AVE    CHI184      7/23/2019         196    21546.0   \n",
       "1                445 W 127TH    CHI045      7/23/2019         102    21861.0   \n",
       "2            536 E MORGAN DR    CHI029      7/23/2019         100    22260.0   \n",
       "3          4909 N CICERO AVE    CHI149      7/23/2019          69    21869.0   \n",
       "4  8020 W FOREST PRESERVE AV    CHI174      7/23/2019          68    22254.0   \n",
       "\n",
       "   Community Areas  Wards  violation_month  violation_year violation_season  \n",
       "0             67.0   33.0                7            2019           Summer  \n",
       "1             50.0   43.0                7            2019           Summer  \n",
       "2              7.0    4.0                7            2019           Summer  \n",
       "3             14.0   38.0                7            2019           Summer  \n",
       "4             17.0   19.0                7            2019           Summer  "
      ]
     },
     "execution_count": 7,
     "metadata": {},
     "output_type": "execute_result"
    }
   ],
   "source": [
    "df_clean.head() #I continuosly run the data frame to ensure I have the right material.\n"
   ]
  },
  {
   "cell_type": "code",
   "execution_count": null,
   "metadata": {},
   "outputs": [
    {
     "data": {
      "text/plain": [
       "<matplotlib.axes._subplots.AxesSubplot at 0x10cf78e5278>"
      ]
     },
     "execution_count": 8,
     "metadata": {},
     "output_type": "execute_result"
    },
    {
     "data": {
      "image/png": "[encoded data removed]",
      "text/plain": [
       "<Figure size 432x288 with 1 Axes>"
      ]
     },
     "metadata": {
      "needs_background": "light"
     },
     "output_type": "display_data"
    }
   ],
   "source": [
    "#My first graph compares total speeding violations per year\n",
    "df_clean.groupby(['violation_year'])['VIOLATIONS'].sum().plot.bar() \n",
    "#It is clear that speeding violations dropped over the years, after an initial spike from 2014-2015"
   ]
  },
  {
   "cell_type": "code",
   "execution_count": null,
   "metadata": {},
   "outputs": [
    {
     "data": {
      "text/plain": [
       "<matplotlib.axes._subplots.AxesSubplot at 0x10cf96967b8>"
      ]
     },
     "execution_count": 9,
     "metadata": {},
     "output_type": "execute_result"
    },
    {
     "data": {
      "image/png": "[encoded data removed]",
      "text/plain": [
       "<Figure size 432x288 with 1 Axes>"
      ]
     },
     "metadata": {
      "needs_background": "light"
     },
     "output_type": "display_data"
    }
   ],
   "source": [
    "#Next, I wanted to see what impact a season would have on speeding violations\n",
    "df_clean.groupby(['violation_season'])['VIOLATIONS'].sum().plot.barh()\n",
    "#An assumption could be made that fewer vehicles are on the road in the winter, hence the decrease in violations.\n",
    "#Another assumption is that the vehicle volume may be similar, but that drivers exercise more caution on icy/snowy roads."
   ]
  },
  {
   "cell_type": "code",
   "execution_count": null,
   "metadata": {},
   "outputs": [
    {
     "data": {
      "text/plain": [
       "<matplotlib.axes._subplots.AxesSubplot at 0x10cf84f8e48>"
      ]
     },
     "execution_count": 10,
     "metadata": {},
     "output_type": "execute_result"
    },
    {
     "data": {
      "image/png": "[encoded data removed]",
      "text/plain": [
       "<Figure size 432x288 with 1 Axes>"
      ]
     },
     "metadata": {
      "needs_background": "light"
     },
     "output_type": "display_data"
    }
   ],
   "source": [
    "#These next few bar charts will provide detail as to where the most speeding violations occurred by ward, community area, and address.\n",
    "#Due to the very high volume of data points, I chose to show the 5 largest wards, community areas, and addresses.\n",
    "\n",
    "\n",
    "df_clean_top5wards = df_clean.groupby(['Wards'])['VIOLATIONS'].sum().nlargest()\n",
    "df_clean_top5wards.plot.bar()"
   ]
  },
  {
   "cell_type": "code",
   "execution_count": null,
   "metadata": {},
   "outputs": [
    {
     "data": {
      "text/plain": [
       "<matplotlib.axes._subplots.AxesSubplot at 0x10cf839e400>"
      ]
     },
     "execution_count": 11,
     "metadata": {},
     "output_type": "execute_result"
    },
    {
     "data": {
      "image/png": "[encoded data removed]",
      "text/plain": [
       "<Figure size 432x288 with 1 Axes>"
      ]
     },
     "metadata": {
      "needs_background": "light"
     },
     "output_type": "display_data"
    }
   ],
   "source": [
    "df_clean_top5comm_areas = df_clean.groupby(['Community Areas'])['VIOLATIONS'].sum().nlargest()\n",
    "df_clean_top5comm_areas.plot.bar()"
   ]
  },
  {
   "cell_type": "code",
   "execution_count": null,
   "metadata": {},
   "outputs": [
    {
     "data": {
      "text/plain": [
       "<matplotlib.axes._subplots.AxesSubplot at 0x10cf79c4a90>"
      ]
     },
     "execution_count": 12,
     "metadata": {},
     "output_type": "execute_result"
    },
    {
     "data": {
      "image/png": "[encoded data removed]",
      "text/plain": [
       "<Figure size 432x288 with 1 Axes>"
      ]
     },
     "metadata": {
      "needs_background": "light"
     },
     "output_type": "display_data"
    }
   ],
   "source": [
    "df_clean_top5address = df_clean.groupby(['ADDRESS'])['VIOLATIONS'].sum().nlargest()\n",
    "df_clean_top5address.plot.barh()"
   ]
  },
  {
   "cell_type": "code",
   "execution_count": null,
   "metadata": {},
   "outputs": [
    {
     "data": {
      "image/png": "[encoded data removed]",
      "text/plain": [
       "<Figure size 432x288 with 1 Axes>"
      ]
     },
     "metadata": {
      "needs_background": "light"
     },
     "output_type": "display_data"
    }
   ],
   "source": [
    "#The histogram does not appear normally distributed, but is skewed right\n",
    "df_hist = df_clean.hist(column = 'VIOLATIONS', bins = 10)\n",
    "plt.show()"
   ]
  },
  {
   "cell_type": "markdown",
   "metadata": {},
   "source": [
    "Further analysis and future research would be done to answer the following questions:\n",
    "\n",
    "*How would a heat map of Chicago appear by community area and ward based on the number of speeding violations?\n",
    "\n",
    "*How do the property values by ward correspond to areas with the highest volume of speeding violations, and which alderman may face scrutiny based on a high number of violations (residents upset with speeding tickets), or based on a low number of cameras (suggesting that more accidents are occuring)?\n",
    "\n",
    "*How has overall accident volume been impacted by camera placement, and what are the dates for camera implementation?"
   ]
  }
 ],
 "metadata": {
  "kernelspec": {
   "display_name": "Python 3",
   "language": "python",
   "name": "python3"
  },
  "language_info": {
   "codemirror_mode": {
    "name": "ipython",
    "version": 3
   },
   "file_extension": ".py",
   "mimetype": "text/x-python",
   "name": "python",
   "nbconvert_exporter": "python",
   "pygments_lexer": "ipython3",
   "version": "3.7.1"
  }
 },
 "nbformat": 4,
 "nbformat_minor": 2
}
